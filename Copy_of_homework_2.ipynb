{
  "nbformat": 4,
  "nbformat_minor": 0,
  "metadata": {
    "kernelspec": {
      "display_name": "Python 3",
      "language": "python",
      "name": "python3"
    },
    "language_info": {
      "codemirror_mode": {
        "name": "ipython",
        "version": 3
      },
      "file_extension": ".py",
      "mimetype": "text/x-python",
      "name": "python",
      "nbconvert_exporter": "python",
      "pygments_lexer": "ipython3",
      "version": "3.7.7"
    },
    "colab": {
      "name": "Copy of homework-2.ipynb",
      "provenance": [],
      "collapsed_sections": [],
      "include_colab_link": true
    }
  },
  "cells": [
    {
      "cell_type": "markdown",
      "metadata": {
        "id": "view-in-github",
        "colab_type": "text"
      },
      "source": [
        "<a href=\"https://colab.research.google.com/github/hugo767/lecture-1/blob/master/Copy_of_homework_2.ipynb\" target=\"_parent\"><img src=\"https://colab.research.google.com/assets/colab-badge.svg\" alt=\"Open In Colab\"/></a>"
      ]
    },
    {
      "cell_type": "markdown",
      "metadata": {
        "id": "Pk2u_66UTW18"
      },
      "source": [
        "# Homework 2: Numerical integration\n",
        "**Due Friday, April 17**\n",
        "\n",
        " Hugo Mixco\n",
        "\n",
        "### Homework checklist\n",
        "\n",
        "Before submitting, make sure that you\n",
        "\n",
        "- Fill in your name in the space above\n",
        "- Cite any resources that you used while working on this homework\n",
        "- 1.a. Fill in the code cell to write a function that performs integration using Simpson's rule  \n",
        "- 1.b. Run the code cell to test the function, then comment on the results below  \n",
        "- 2.a. Write your own code to evaluate the Bessel function  \n",
        "- 2.b. Run the code cell to test the function, then comment on the results below  \n",
        "- 2.c. Fill in the code block to evaluate the Bessel functions and plot the results  "
      ]
    },
    {
      "cell_type": "code",
      "metadata": {
        "id": "Pe-jQYKkOjbR",
        "outputId": "514b92e6-42e8-40af-b1b1-d96468bfaca5",
        "colab": {
          "base_uri": "https://localhost:8080/",
          "height": 70
        }
      },
      "source": [
        "print(\"-Used the lecture notes\\n-Used chapter 5 from the book\\n-Used google for lines styles  \")"
      ],
      "execution_count": null,
      "outputs": [
        {
          "output_type": "stream",
          "text": [
            "-Used the lecture notes\n",
            "-Used chapter 5 from the book\n",
            "-Used google for lines styles  \n"
          ],
          "name": "stdout"
        }
      ]
    },
    {
      "cell_type": "markdown",
      "metadata": {
        "id": "5QAEX5bCTW1-"
      },
      "source": [
        "## 1. Integration with Simpson's rule\n",
        "\n",
        "Write a function to perform integration using **Simpson's rule**. The input parameters to the integrator function should be:\n",
        "* A function, $f$\n",
        "* Two real numbers giving the limits of integration\n",
        "* The number of subdivisions $N$ to use for estimating the integral\n",
        "\n",
        "There are many different ways that you could implement integration using Simpson's rule (for example, see Chapter 5 of Newman's *[Computational Physics](http://www-personal.umich.edu/~mejn/cp/chapters.html)*). You are free to choose any approach that you like. If you're already comfortable with Python, you might want to try an implementation that uses numpy arrays and [vectorization](https://realpython.com/numpy-array-programming/)."
      ]
    },
    {
      "cell_type": "markdown",
      "metadata": {
        "id": "7kZO8qVHTW1_"
      },
      "source": [
        "### 1.a. Write the integration function\n",
        "\n",
        "Fill in the function outline below. If you're having trouble getting started, try writing out all the individual computations that need to be performed to estimate the integral. Then, code each one of them individually."
      ]
    },
    {
      "cell_type": "code",
      "metadata": {
        "id": "enjDLxXgTW2A"
      },
      "source": [
        "def integrate(func,lower_limit, upper_limit, N_div):\n",
        "    \"\"\"\n",
        "    Integrate the input univariate function, function_name, \n",
        "    between lower_limit and upper_limit using Simpson's rule \n",
        "    and return the result. The integral bounds will be \n",
        "    subdivided into N_div divisions to estimate the integral.\n",
        "    \"\"\"\n",
        "    \n",
        "    # Fill in your code here\n",
        "    if N_div % 2 == 1:\n",
        "      N_div += 1\n",
        "\n",
        "    dx = (upper_limit - lower_limit) / N_div\n",
        "\n",
        "    total = 0\n",
        "    for i in range(N_div):\n",
        "      if i % 2 == 0:\n",
        "        continue\n",
        "\n",
        "      total += dx * (func(lower_limit + dx*(i-1)) + 4*func(lower_limit+ dx*i) + func(lower_limit+dx*(i+1)) ) / 3\n",
        "\n",
        "    return total"
      ],
      "execution_count": null,
      "outputs": []
    },
    {
      "cell_type": "markdown",
      "metadata": {
        "id": "6g9WBEUVTW2F"
      },
      "source": [
        "### 1.b. Test the function\n",
        "\n",
        "Test your function in the cell below."
      ]
    },
    {
      "cell_type": "code",
      "metadata": {
        "id": "o0fjjdT2TW2G",
        "outputId": "30679f4f-2db1-48fd-f92d-bc8ca80f084c",
        "colab": {
          "base_uri": "https://localhost:8080/",
          "height": 34
        }
      },
      "source": [
        "def test_quad(x):\n",
        "    return (3*x**2)\n",
        "\n",
        "integrate(test_quad, 0, 1, 100)\n",
        "\n",
        "print(integrate(test_quad, 0, 1, 100))"
      ],
      "execution_count": null,
      "outputs": [
        {
          "output_type": "stream",
          "text": [
            "1.0\n"
          ],
          "name": "stdout"
        }
      ]
    },
    {
      "cell_type": "markdown",
      "metadata": {
        "id": "ZBrRi4ZITW2L"
      },
      "source": [
        "Compare your output with the analytical result here. Does it perform as expected?"
      ]
    },
    {
      "cell_type": "code",
      "metadata": {
        "id": "tLK-I1zXdEyl",
        "outputId": "1c936ff8-f771-4d8e-fbc6-73634966a2b7",
        "colab": {
          "base_uri": "https://localhost:8080/",
          "height": 34
        }
      },
      "source": [
        "print(\"as you add more divisions it gets closer to 1, which is what you get if you integrate it by hand\")"
      ],
      "execution_count": null,
      "outputs": [
        {
          "output_type": "stream",
          "text": [
            "as you add more divisions it gets closer to 1, which is what you get if you integrate it by hand\n"
          ],
          "name": "stdout"
        }
      ]
    },
    {
      "cell_type": "markdown",
      "metadata": {
        "id": "-BljG7yrTW2P"
      },
      "source": [
        "## 2. Application: diffraction patterns generated by a circular aperture\n",
        "\n",
        "When might we need to perform numerical integration? Here is one example from Exercise 5.4 in Newman's [Computational Physics](http://www-personal.umich.edu/~mejn/cp/chapters.html) textbook.\n",
        "\n",
        "When light with wavelength $\\lambda$ passes through a circular aperture, as in a telescope, it doesn't produce just a single point of light in the focal plane. Rather, the light is *diffracted*, producing a central bright spot surrounded by alternating bright and dark rings. Mathematically, the intensity of the focused light is given by\n",
        "\n",
        "$$I(r) = \\frac{J_1(kr)}{kr}^2\\,,$$\n",
        "\n",
        "where $r$ is the distance from the center of the focal plane, $k = 2\\pi/\\lambda$, and $J_1$ is the order 1 [Bessel function](https://en.wikipedia.org/wiki/Bessel_function) of the first kind. For more information, follow the Wikipedia link. Bessel functions appear very frequently in physics.\n",
        "\n",
        "One way to define the Bessel functions $J_m$ is through an integral,\n",
        "\n",
        "$$ J_m(x) = \\frac{1}{\\pi}\\int_0^\\pi\\!d\\theta\\; \\cos(m\\theta - x \\sin \\theta) \\, $$ \n",
        "\n",
        "where $m$ is a nonnegative integer and $x\\geq 0$. \n",
        "\n",
        "In the rest of the exercise below, we'll write a function to evaluate the Bessel function using our integrator defined in part 1. Then we'll test it and plot the results."
      ]
    },
    {
      "cell_type": "markdown",
      "metadata": {
        "id": "TpbB2JAjTW2P"
      },
      "source": [
        "### 2.a. Write the Bessel function\n",
        "\n",
        "Write your own version of the Bessel function by filling in the cell below. We'll assume that the number of divisions is 1000."
      ]
    },
    {
      "cell_type": "code",
      "metadata": {
        "id": "7iGgEotndmRi"
      },
      "source": [
        "import numpy as np\n"
      ],
      "execution_count": null,
      "outputs": []
    },
    {
      "cell_type": "code",
      "metadata": {
        "id": "VC5P22zRTW2Q"
      },
      "source": [
        "def J(m, x):\n",
        "    \"\"\"\n",
        "    mth Bessel function of the first kind evaluated at real number x,  \n",
        "    calculated using an integral representation with Simpson's rule and 1000 divisions.\n",
        "    \"\"\"\n",
        "    \n",
        "    # Fill in your code here, using the integrate function you defined in part 1\n",
        "    \n",
        "    # Remember: you'll need to evaluate sine and cosine functions, and to use the constant pi\n",
        "    # You can access these functions from numpy or the Python math library\n",
        "     \n",
        "    # You might want to define a local function for the integrand\n",
        "    def intergrand(theta):\n",
        "      return np.cos(m * theta - x * np.sin(theta)) / np.pi\n",
        "    result = integrate(intergrand, 0, np.pi, 1000)\n",
        "   \n",
        "    return result"
      ],
      "execution_count": null,
      "outputs": []
    },
    {
      "cell_type": "markdown",
      "metadata": {
        "id": "eEuwnuxdTW2T"
      },
      "source": [
        "### 2.b. Test the function\n",
        "\n",
        "Now, test your function in the cell below."
      ]
    },
    {
      "cell_type": "code",
      "metadata": {
        "id": "Ne7vFPmZTW2U",
        "outputId": "ec679dac-ef2b-40ae-b33d-b78c34718d02",
        "colab": {
          "base_uri": "https://localhost:8080/",
          "height": 34
        }
      },
      "source": [
        "print(J(1,1)) "
      ],
      "execution_count": null,
      "outputs": [
        {
          "output_type": "stream",
          "text": [
            "0.4400505857449336\n"
          ],
          "name": "stdout"
        }
      ]
    },
    {
      "cell_type": "markdown",
      "metadata": {
        "id": "J1ifGsIDTW2W"
      },
      "source": [
        "How does this compare with the expected result? Let's check our answer against the builtin Bessel function evaluator in `scipy`."
      ]
    },
    {
      "cell_type": "code",
      "metadata": {
        "id": "aG-Pln7fTW2X",
        "outputId": "9dda52e3-f7b4-4bca-cfc4-ee7bdfa0db14",
        "colab": {
          "base_uri": "https://localhost:8080/",
          "height": 52
        }
      },
      "source": [
        "import scipy.special as sp\n",
        "\n",
        "print(J(1,1) - sp.jv(1, 1)) #error analysis \n",
        "\n",
        "print(sp.jv(1, 1)) # actual value of the built in function "
      ],
      "execution_count": null,
      "outputs": [
        {
          "output_type": "stream",
          "text": [
            "5.551115123125783e-17\n",
            "0.44005058574493355\n"
          ],
          "name": "stdout"
        }
      ]
    },
    {
      "cell_type": "markdown",
      "metadata": {
        "id": "thwfW3ZLTW2e"
      },
      "source": [
        "### An aside \n",
        "\n",
        "Why are we implementing our own method to evaluate the Bessel function when another one already exists? As you might have guessed, this is just for practice, and practice works best when there are well-established results that you can compare with. \n",
        "\n",
        "In your own computational adventures, the first step in any problem is to **check whether someone else has already solved it first**. If a solution exists, it will almost always be better to use the existing software and build on top of it, rather than \"reinventing the wheel.\" Why? Consider the frenzied activity in the [numpy repository](https://github.com/numpy/numpy) on GitHub. Hundreds of people are working to ensure that numpy is fast and accurate. This is not a situation where a team of 1 can compete.\n",
        "\n",
        "However, in research or industry we may encounter niche problems that have not yet been solved, or where standard techniques fail. In these cases we may indeed need to start from the beginning."
      ]
    },
    {
      "cell_type": "markdown",
      "metadata": {
        "id": "DinPdurcTW2f"
      },
      "source": [
        "### 2.c. Plot the Bessel function(s)\n",
        "\n",
        "Now, let's use our function `J(m, x)` to plot three different Bessel functions, $J_0(x)$, $J_1(x)$ and $J_2(x)$. Your job is to fill in the following code to produce these plots. The outline below uses `seaborn`, but you're also welcome to use `matplotlib` directly if you'd like.\n",
        "\n",
        "*Hint*: You can check your answers by consulting [Wikipedia](https://en.wikipedia.org/wiki/Bessel_function).\n",
        "\n",
        "*Hint*$^2$: Your function for evaluating the Bessel functions might take a little bit of time. You can potentially make it faster, and easier to use, with the `numpy.vectorize` function. For more information, look [here](https://docs.scipy.org/doc/numpy-1.15.0/reference/generated/numpy.vectorize.html). If you vectorize `J(m, x)` then it will be able to operate on entire numpy arrays at once."
      ]
    },
    {
      "cell_type": "code",
      "metadata": {
        "id": "1GJlc9V1TW2g",
        "outputId": "67eaa5cb-f0b8-482a-e4a8-507714a0d554",
        "colab": {
          "base_uri": "https://localhost:8080/",
          "height": 408
        }
      },
      "source": [
        "import seaborn as sns\n",
        "import numpy as np\n",
        "\n",
        "# x sample points\n",
        "x = np.linspace(0, 20, 200)\n",
        "\n",
        "y0 =  J(0,x)\n",
        "y1 = J(1,x)\n",
        "y2 = J(2,x)\n",
        "\n",
        "sns.lineplot(x, \n",
        "             y0,\n",
        "             label='$J_0(x)$', color = \"red\")\n",
        "\n",
        "sns.lineplot(x, \n",
        "            y1,\n",
        "             label='$J_1(x)$', color =  \"green\", linestyle = \"--\")\n",
        "\n",
        "sns.lineplot(x, \n",
        "            y2,\n",
        "             label='$J_2(x)$', color = \"blue\", linestyle = \"-.\")"
      ],
      "execution_count": null,
      "outputs": [
        {
          "output_type": "stream",
          "text": [
            "/usr/local/lib/python3.6/dist-packages/seaborn/_decorators.py:43: FutureWarning: Pass the following variables as keyword args: x, y. From version 0.12, the only valid positional argument will be `data`, and passing other arguments without an explicit keyword will result in an error or misinterpretation.\n",
            "  FutureWarning\n",
            "/usr/local/lib/python3.6/dist-packages/seaborn/_decorators.py:43: FutureWarning: Pass the following variables as keyword args: x, y. From version 0.12, the only valid positional argument will be `data`, and passing other arguments without an explicit keyword will result in an error or misinterpretation.\n",
            "  FutureWarning\n",
            "/usr/local/lib/python3.6/dist-packages/seaborn/_decorators.py:43: FutureWarning: Pass the following variables as keyword args: x, y. From version 0.12, the only valid positional argument will be `data`, and passing other arguments without an explicit keyword will result in an error or misinterpretation.\n",
            "  FutureWarning\n"
          ],
          "name": "stderr"
        },
        {
          "output_type": "execute_result",
          "data": {
            "text/plain": [
              "<matplotlib.axes._subplots.AxesSubplot at 0x7f2bb073ad30>"
            ]
          },
          "metadata": {
            "tags": []
          },
          "execution_count": 38
        },
        {
          "output_type": "display_data",
          "data": {
            "image/png": "[encoded data removed]",
            "text/plain": [
              "<Figure size 432x288 with 1 Axes>"
            ]
          },
          "metadata": {
            "tags": [],
            "needs_background": "light"
          }
        }
      ]
    }
  ]
}