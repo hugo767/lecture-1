{
  "nbformat": 4,
  "nbformat_minor": 0,
  "metadata": {
    "kernelspec": {
      "display_name": "Python 3",
      "language": "python",
      "name": "python3"
    },
    "language_info": {
      "codemirror_mode": {
        "name": "ipython",
        "version": 3
      },
      "file_extension": ".py",
      "mimetype": "text/x-python",
      "name": "python",
      "nbconvert_exporter": "python",
      "pygments_lexer": "ipython3",
      "version": "3.8.5"
    },
    "toc": {
      "base_numbering": 1,
      "nav_menu": {},
      "number_sections": true,
      "sideBar": true,
      "skip_h1_title": false,
      "title_cell": "Table of Contents",
      "title_sidebar": "Contents",
      "toc_cell": false,
      "toc_position": {},
      "toc_section_display": true,
      "toc_window_display": false
    },
    "colab": {
      "name": "Copy of homework-1.ipynb",
      "provenance": [],
      "collapsed_sections": [],
      "include_colab_link": true
    }
  },
  "cells": [
    {
      "cell_type": "markdown",
      "metadata": {
        "id": "view-in-github",
        "colab_type": "text"
      },
      "source": [
        "<a href=\"https://colab.research.google.com/github/hugo767/lecture-1/blob/master/Copy_of_homework_1.ipynb\" target=\"_parent\"><img src=\"https://colab.research.google.com/assets/colab-badge.svg\" alt=\"Open In Colab\"/></a>"
      ]
    },
    {
      "cell_type": "markdown",
      "metadata": {
        "id": "0o1LCK9kVs59"
      },
      "source": [
        "# Homework 1: Introduction to Jupyter and GitHub\n",
        "\n",
        "**Due Friday, October 16**\n",
        "\n",
        "*Hugo Mixco*\n",
        "\n",
        "### Homework checklist\n",
        "\n",
        "Before submitting, make sure that you\n",
        "\n",
        "- Fill in your name in the space above\n",
        "- Cite any resources that you used while working on this homework\n",
        "- 4. Insert and fill in a new markdown cell\n",
        "- 5. Insert and fill in a new code cell"
      ]
    },
    {
      "cell_type": "markdown",
      "metadata": {
        "id": "TVHm99OhVs5-"
      },
      "source": [
        "## Introduction\n",
        "\n",
        "Now that you have **Python 3** and **Jupyter** installed, you can open this notebook in Jupyter. How you do this might vary a bit from system to system, but a common approach is to run `jupyter notebook` from the command line (a.k.a. terminal) in the folder where you've downloaded this file (`homework-1.ipynb`). \n",
        "\n",
        "We won't be running anything else directly from the terminal in this course, but more information is available [here](https://swcarpentry.github.io/shell-novice/) if you're interested. "
      ]
    },
    {
      "cell_type": "markdown",
      "metadata": {
        "id": "qJmdnUFnVs5-"
      },
      "source": [
        "## 4. Practice basic Jupyter I\n",
        "\n",
        "You may have noticed that the text in this document is organized into discrete blocks called cells. You can click on any cell to select it, and double click to edit. Edit the first cell to enter your name. Once you're done, you can execute the code (or format the text) in the cell by using the menu bar above, or with the keyboard shortcut `shift + enter`.\n",
        "\n",
        "Jupyter notebooks use a lightweight language called [Markdown](https://en.wikipedia.org/wiki/Markdown) for formatting plain text. Here is a [guide](https://github.com/adam-p/markdown-here/wiki/Markdown-Cheatsheet) to some common Markdown notation. You can also use Markdown to format equations by enclosing them in `$` symbols! Equation formatting follows $\\LaTeX$ conventions.\n",
        "\n",
        "Let's practice using Jupyter and Markdown by:  \n",
        "1. Inserting a new cell below this one. To do this, select this cell and select `Insert` > `Insert Cell Below` from the menu.  \n",
        "2. Click on the new cell and change its type to Markdown by selecting it and selecting `Cell` > `Cell Type` > `Markdown` from the menu.  \n",
        "3. Add a heading in that cell with a single `#`, and a subheading with `##`.  \n",
        "4. Now add a numbered list below that. You can also generated un-numbered lists by using `*` or other starting characters.  \n",
        "5. Add an equation to your text box using Latex.  "
      ]
    },
    {
      "cell_type": "markdown",
      "metadata": {
        "id": "3pnGJ20NYMfB"
      },
      "source": [
        "#Heading \n",
        "##Subheading\n",
        "1 one   \n",
        "2.two   \n",
        "3.three \n",
        "* un-numbered list \n",
        "* no number  \n",
        "$y=mx+b$\n",
        "\n",
        "\n"
      ]
    },
    {
      "cell_type": "markdown",
      "metadata": {
        "id": "m_YbTJBJVs5_"
      },
      "source": [
        "## 5. Practice basic Jupyter II\n",
        "\n",
        "Let's now do some light practice with code cells in Jupyter:\n",
        "1. Insert another cell below this one. By default, it will be a code cell.  \n",
        "2. Define a variable in that cell. For example, we could set `x = 3`.\n",
        "3. Now let's insert another new cell below that one. Print out the variable that you defined in the previous cell. For the example above, I could write `print(x)`.  \n",
        "\n",
        "Note that, as shown above, variables defined in one cell still hold their values in another cell! Each cell is not a separate compute environment. **Variables are shared across the entire notebook.** This is important to keep in mind when you are coding, so that you don't accidentally use a variable that you might not have intended to use."
      ]
    },
    {
      "cell_type": "code",
      "metadata": {
        "id": "0quYwgedeMS6",
        "outputId": "5a80743a-2621-4915-95ff-5512a25e67da",
        "colab": {
          "base_uri": "https://localhost:8080/"
        }
      },
      "source": [
        "x = 3 "
      ],
      "execution_count": null,
      "outputs": [
        {
          "output_type": "stream",
          "text": [
            "3\n"
          ],
          "name": "stdout"
        }
      ]
    },
    {
      "cell_type": "code",
      "metadata": {
        "id": "yKAVVgx3eQrD",
        "outputId": "3550d2a8-c541-4c24-cbd6-9ae02c3998cd",
        "colab": {
          "base_uri": "https://localhost:8080/"
        }
      },
      "source": [
        "print (x)"
      ],
      "execution_count": null,
      "outputs": [
        {
          "output_type": "stream",
          "text": [
            "3\n"
          ],
          "name": "stdout"
        }
      ]
    },
    {
      "cell_type": "markdown",
      "metadata": {
        "id": "BNcbE1zuVs6A"
      },
      "source": [
        "## 6. Submit the homework assignment\n",
        "\n",
        "First, save your modified version of this file by using the shortcut `contrl+s` or by selecting `File` > `Save and Checkpoint` from the menu. Next, upload it to your GitHub repository for this homework. "
      ]
    }
  ]
}